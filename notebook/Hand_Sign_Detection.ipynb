{
  "nbformat": 4,
  "nbformat_minor": 0,
  "metadata": {
    "colab": {
      "name": "Hand Sign Detection.ipynb",
      "provenance": [],
      "collapsed_sections": []
    },
    "kernelspec": {
      "name": "python3",
      "display_name": "Python 3"
    },
    "language_info": {
      "name": "python"
    },
    "accelerator": "GPU"
  },
  "cells": [
    {
      "cell_type": "markdown",
      "metadata": {
        "id": "yXu_ihmtDLrr"
      },
      "source": [
        "## Hand Sign Detection\n",
        "By : Reynara Ezra Pratama"
      ]
    },
    {
      "cell_type": "markdown",
      "metadata": {
        "id": "tV3cUHUODQ-L"
      },
      "source": [
        "### Import Library"
      ]
    },
    {
      "cell_type": "code",
      "metadata": {
        "colab": {
          "base_uri": "https://localhost:8080/"
        },
        "id": "Kc1DxDGWDDsd",
        "outputId": "7cc752be-31f0-4c8a-d600-34931535bbf0"
      },
      "source": [
        "import tensorflow as tf\n",
        "print(tf.__version__)"
      ],
      "execution_count": 3,
      "outputs": [
        {
          "output_type": "stream",
          "name": "stdout",
          "text": [
            "2.6.0\n"
          ]
        }
      ]
    },
    {
      "cell_type": "code",
      "metadata": {
        "colab": {
          "base_uri": "https://localhost:8080/"
        },
        "id": "jRVjeZp4DVQE",
        "outputId": "de21e749-f063-4e8d-e7cd-2b40ef950abd"
      },
      "source": [
        "!pip install ipython-autotime\n",
        "%load_ext autotime"
      ],
      "execution_count": 4,
      "outputs": [
        {
          "output_type": "stream",
          "name": "stdout",
          "text": [
            "Collecting ipython-autotime\n",
            "  Downloading ipython_autotime-0.3.1-py2.py3-none-any.whl (6.8 kB)\n",
            "Requirement already satisfied: ipython in /usr/local/lib/python3.7/dist-packages (from ipython-autotime) (5.5.0)\n",
            "Requirement already satisfied: decorator in /usr/local/lib/python3.7/dist-packages (from ipython->ipython-autotime) (4.4.2)\n",
            "Requirement already satisfied: pexpect in /usr/local/lib/python3.7/dist-packages (from ipython->ipython-autotime) (4.8.0)\n",
            "Requirement already satisfied: simplegeneric>0.8 in /usr/local/lib/python3.7/dist-packages (from ipython->ipython-autotime) (0.8.1)\n",
            "Requirement already satisfied: pickleshare in /usr/local/lib/python3.7/dist-packages (from ipython->ipython-autotime) (0.7.5)\n",
            "Requirement already satisfied: setuptools>=18.5 in /usr/local/lib/python3.7/dist-packages (from ipython->ipython-autotime) (57.4.0)\n",
            "Requirement already satisfied: traitlets>=4.2 in /usr/local/lib/python3.7/dist-packages (from ipython->ipython-autotime) (5.1.0)\n",
            "Requirement already satisfied: pygments in /usr/local/lib/python3.7/dist-packages (from ipython->ipython-autotime) (2.6.1)\n",
            "Requirement already satisfied: prompt-toolkit<2.0.0,>=1.0.4 in /usr/local/lib/python3.7/dist-packages (from ipython->ipython-autotime) (1.0.18)\n",
            "Requirement already satisfied: wcwidth in /usr/local/lib/python3.7/dist-packages (from prompt-toolkit<2.0.0,>=1.0.4->ipython->ipython-autotime) (0.2.5)\n",
            "Requirement already satisfied: six>=1.9.0 in /usr/local/lib/python3.7/dist-packages (from prompt-toolkit<2.0.0,>=1.0.4->ipython->ipython-autotime) (1.15.0)\n",
            "Requirement already satisfied: ptyprocess>=0.5 in /usr/local/lib/python3.7/dist-packages (from pexpect->ipython->ipython-autotime) (0.7.0)\n",
            "Installing collected packages: ipython-autotime\n",
            "Successfully installed ipython-autotime-0.3.1\n",
            "time: 133 µs (started: 2021-10-31 11:25:51 +00:00)\n"
          ]
        }
      ]
    },
    {
      "cell_type": "code",
      "metadata": {
        "colab": {
          "base_uri": "https://localhost:8080/"
        },
        "id": "Ma5fqPS1DXB6",
        "outputId": "f6b5a5d9-b220-48c7-d060-bbd61dce61d1"
      },
      "source": [
        "import zipfile, os\n",
        "\n",
        "local_zip = '/content/drive/MyDrive/Data/dataset.zip'\n",
        "zip_ref = zipfile.ZipFile(local_zip, 'r')\n",
        "zip_ref.extractall('/tmp/Hand Sign Detection/Dataset')\n",
        "zip_ref.close()"
      ],
      "execution_count": 6,
      "outputs": [
        {
          "output_type": "stream",
          "name": "stdout",
          "text": [
            "time: 6.17 s (started: 2021-10-31 11:26:03 +00:00)\n"
          ]
        }
      ]
    },
    {
      "cell_type": "code",
      "metadata": {
        "colab": {
          "base_uri": "https://localhost:8080/"
        },
        "id": "iKoANKKZEYTZ",
        "outputId": "7e32ffa1-e1cf-4675-c50c-25823b8da521"
      },
      "source": [
        "print(os.listdir('/tmp/Hand Sign Detection/Dataset'))"
      ],
      "execution_count": 7,
      "outputs": [
        {
          "output_type": "stream",
          "name": "stdout",
          "text": [
            "['Sign Language for Numbers']\n",
            "time: 4.57 ms (started: 2021-10-31 11:26:13 +00:00)\n"
          ]
        }
      ]
    },
    {
      "cell_type": "code",
      "metadata": {
        "colab": {
          "base_uri": "https://localhost:8080/"
        },
        "id": "JNLThK_DGdVd",
        "outputId": "1728fc02-50f1-4ff3-e905-d824f01c3984"
      },
      "source": [
        "type_class = os.listdir('/tmp/Hand Sign Detection/Dataset/Sign Language for Numbers')\n",
        "type_class = sorted(type_class)\n",
        "print(type_class)"
      ],
      "execution_count": 27,
      "outputs": [
        {
          "output_type": "stream",
          "name": "stdout",
          "text": [
            "['0', '1', '2', '3', '4', '5', '6', '7', '8', '9', 'unknown']\n",
            "time: 3.67 ms (started: 2021-10-31 11:37:18 +00:00)\n"
          ]
        }
      ]
    },
    {
      "cell_type": "code",
      "metadata": {
        "colab": {
          "base_uri": "https://localhost:8080/"
        },
        "id": "yzp3RIWsIczN",
        "outputId": "131142d2-ec78-4970-a219-1a2720b9e8e8"
      },
      "source": [
        "total_data = 0\n",
        "for i in type_class:\n",
        "    directory = os.listdir(f'/tmp/Hand Sign Detection/Dataset/Sign Language for Numbers/{i}')\n",
        "    print(f'Number of {i} Images : {len(directory)}')\n",
        "    total_data += len(directory)\n",
        "\n",
        "print(f'\\nTotal Images :{total_data}')"
      ],
      "execution_count": 36,
      "outputs": [
        {
          "output_type": "stream",
          "name": "stdout",
          "text": [
            "Number of 0 Images : 1500\n",
            "Number of 1 Images : 1500\n",
            "Number of 2 Images : 1500\n",
            "Number of 3 Images : 1500\n",
            "Number of 4 Images : 1500\n",
            "Number of 5 Images : 1500\n",
            "Number of 6 Images : 1500\n",
            "Number of 7 Images : 1500\n",
            "Number of 8 Images : 1500\n",
            "Number of 9 Images : 1500\n",
            "Number of unknown Images : 1500\n",
            "\n",
            "Total Images :16500\n",
            "time: 28.7 ms (started: 2021-10-31 11:42:07 +00:00)\n"
          ]
        }
      ]
    },
    {
      "cell_type": "code",
      "metadata": {
        "colab": {
          "base_uri": "https://localhost:8080/"
        },
        "id": "dhAtC_rAG8Jn",
        "outputId": "bb1f19ca-475e-4d6b-b5b9-61d709d41d0f"
      },
      "source": [
        "!pip install split_folders\n",
        "import splitfolders\n",
        "splitfolders.ratio('/tmp/Hand Sign Detection/Dataset/Sign Language for Numbers', \n",
        "                   '/tmp/Hand Sign Detection/Dataset/Data', \n",
        "                   seed=42, \n",
        "                   ratio=(0.8, 0.2))"
      ],
      "execution_count": 38,
      "outputs": [
        {
          "output_type": "stream",
          "name": "stdout",
          "text": [
            "Requirement already satisfied: split_folders in /usr/local/lib/python3.7/dist-packages (0.4.3)\n"
          ]
        },
        {
          "output_type": "stream",
          "name": "stderr",
          "text": [
            "Copying files: 16500 files [00:03, 5413.54 files/s]"
          ]
        },
        {
          "output_type": "stream",
          "name": "stdout",
          "text": [
            "time: 6.2 s (started: 2021-10-31 11:45:27 +00:00)\n"
          ]
        },
        {
          "output_type": "stream",
          "name": "stderr",
          "text": [
            "\n"
          ]
        }
      ]
    },
    {
      "cell_type": "code",
      "metadata": {
        "colab": {
          "base_uri": "https://localhost:8080/"
        },
        "id": "_y_L7PecK0eO",
        "outputId": "5748307e-d99c-4014-86e6-473da6cf7d79"
      },
      "source": [
        "base_dir = '/tmp/Hand Sign Detection/Dataset/Data'\n",
        "train_dir = os.path.join(base_dir, 'train') ## Train Dataset\n",
        "validation_dir = os.path.join(base_dir, 'val') ## Validation Dataset"
      ],
      "execution_count": 39,
      "outputs": [
        {
          "output_type": "stream",
          "name": "stdout",
          "text": [
            "time: 2.06 ms (started: 2021-10-31 11:45:46 +00:00)\n"
          ]
        }
      ]
    },
    {
      "cell_type": "code",
      "metadata": {
        "colab": {
          "base_uri": "https://localhost:8080/"
        },
        "id": "gbw--_tNK43d",
        "outputId": "92c2a595-59b8-43db-899e-d9fcdb2c4204"
      },
      "source": [
        "os.listdir('/tmp/Hand Sign Detection/Dataset/Data/train')"
      ],
      "execution_count": 40,
      "outputs": [
        {
          "output_type": "execute_result",
          "data": {
            "text/plain": [
              "['4', '7', '0', '2', '3', 'unknown', '5', '9', '6', '8', '1']"
            ]
          },
          "metadata": {},
          "execution_count": 40
        },
        {
          "output_type": "stream",
          "name": "stdout",
          "text": [
            "time: 8.88 ms (started: 2021-10-31 11:46:05 +00:00)\n"
          ]
        }
      ]
    },
    {
      "cell_type": "code",
      "metadata": {
        "colab": {
          "base_uri": "https://localhost:8080/"
        },
        "id": "TXDOjlKVK774",
        "outputId": "909c823a-270e-4188-9850-bf6c824464f8"
      },
      "source": [
        "os.listdir('/tmp/Hand Sign Detection/Dataset/Data/val')"
      ],
      "execution_count": 41,
      "outputs": [
        {
          "output_type": "execute_result",
          "data": {
            "text/plain": [
              "['4', '7', '0', '2', '3', 'unknown', '5', '9', '6', '8', '1']"
            ]
          },
          "metadata": {},
          "execution_count": 41
        },
        {
          "output_type": "stream",
          "name": "stdout",
          "text": [
            "time: 5.88 ms (started: 2021-10-31 11:46:12 +00:00)\n"
          ]
        }
      ]
    },
    {
      "cell_type": "code",
      "metadata": {
        "colab": {
          "base_uri": "https://localhost:8080/"
        },
        "id": "UY2jmgoDK9rO",
        "outputId": "4c0cc287-6933-4a53-e701-d61789be04a2"
      },
      "source": [
        "total_train_data = 0\n",
        "for i in type_class:\n",
        "    directory = os.listdir(f'/tmp/Hand Sign Detection/Dataset/Data/train/{i}')\n",
        "    print(f'Number of {i} Images : {len(directory)}')\n",
        "    total_train_data += len(directory)\n",
        "\n",
        "print(f'\\nTotal Images :{total_train_data}')"
      ],
      "execution_count": 42,
      "outputs": [
        {
          "output_type": "stream",
          "name": "stdout",
          "text": [
            "Number of 0 Images : 1200\n",
            "Number of 1 Images : 1200\n",
            "Number of 2 Images : 1200\n",
            "Number of 3 Images : 1200\n",
            "Number of 4 Images : 1200\n",
            "Number of 5 Images : 1200\n",
            "Number of 6 Images : 1200\n",
            "Number of 7 Images : 1200\n",
            "Number of 8 Images : 1200\n",
            "Number of 9 Images : 1200\n",
            "Number of unknown Images : 1200\n",
            "\n",
            "Total Images :13200\n",
            "time: 24 ms (started: 2021-10-31 11:48:03 +00:00)\n"
          ]
        }
      ]
    },
    {
      "cell_type": "code",
      "metadata": {
        "colab": {
          "base_uri": "https://localhost:8080/"
        },
        "id": "aeG5Eo9rLaVH",
        "outputId": "59021b1f-60e9-43fe-d043-378c4a725887"
      },
      "source": [
        "total_test_data = 0\n",
        "for i in type_class:\n",
        "    directory = os.listdir(f'/tmp/Hand Sign Detection/Dataset/Data/val/{i}')\n",
        "    print(f'Number of {i} Images : {len(directory)}')\n",
        "    total_test_data += len(directory)\n",
        "\n",
        "print(f'\\nTotal Images :{total_test_data}')"
      ],
      "execution_count": 45,
      "outputs": [
        {
          "output_type": "stream",
          "name": "stdout",
          "text": [
            "Number of 0 Images : 300\n",
            "Number of 1 Images : 300\n",
            "Number of 2 Images : 300\n",
            "Number of 3 Images : 300\n",
            "Number of 4 Images : 300\n",
            "Number of 5 Images : 300\n",
            "Number of 6 Images : 300\n",
            "Number of 7 Images : 300\n",
            "Number of 8 Images : 300\n",
            "Number of 9 Images : 300\n",
            "Number of unknown Images : 300\n",
            "\n",
            "Total Images :3300\n",
            "time: 16.9 ms (started: 2021-10-31 11:48:47 +00:00)\n"
          ]
        }
      ]
    },
    {
      "cell_type": "code",
      "metadata": {
        "id": "rA-3vOtKLgJg"
      },
      "source": [
        ""
      ],
      "execution_count": null,
      "outputs": []
    }
  ]
}