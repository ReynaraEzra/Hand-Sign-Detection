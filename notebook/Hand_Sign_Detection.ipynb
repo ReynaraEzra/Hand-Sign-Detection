{
  "nbformat": 4,
  "nbformat_minor": 0,
  "metadata": {
    "colab": {
      "name": "Hand Sign Detection.ipynb",
      "provenance": [],
      "collapsed_sections": []
    },
    "kernelspec": {
      "name": "python3",
      "display_name": "Python 3"
    },
    "language_info": {
      "name": "python"
    },
    "accelerator": "GPU"
  },
  "cells": [
    {
      "cell_type": "markdown",
      "metadata": {
        "id": "yXu_ihmtDLrr"
      },
      "source": [
        "## Hand Sign Detection\n",
        "By : Reynara Ezra Pratama"
      ]
    },
    {
      "cell_type": "markdown",
      "metadata": {
        "id": "tV3cUHUODQ-L"
      },
      "source": [
        "### Import Library"
      ]
    },
    {
      "cell_type": "code",
      "metadata": {
        "colab": {
          "base_uri": "https://localhost:8080/"
        },
        "id": "Kc1DxDGWDDsd",
        "outputId": "0b105a7d-b9ce-44fb-b9b6-8b617120a659"
      },
      "source": [
        "import tensorflow as tf\n",
        "print(tf.__version__)"
      ],
      "execution_count": 1,
      "outputs": [
        {
          "output_type": "stream",
          "name": "stdout",
          "text": [
            "2.6.0\n"
          ]
        }
      ]
    },
    {
      "cell_type": "code",
      "metadata": {
        "colab": {
          "base_uri": "https://localhost:8080/"
        },
        "id": "jRVjeZp4DVQE",
        "outputId": "f6599d20-1547-4a4e-83cb-1bd543794fcf"
      },
      "source": [
        "!pip install ipython-autotime\n",
        "%load_ext autotime"
      ],
      "execution_count": 2,
      "outputs": [
        {
          "output_type": "stream",
          "name": "stdout",
          "text": [
            "Collecting ipython-autotime\n",
            "  Downloading ipython_autotime-0.3.1-py2.py3-none-any.whl (6.8 kB)\n",
            "Requirement already satisfied: ipython in /usr/local/lib/python3.7/dist-packages (from ipython-autotime) (5.5.0)\n",
            "Requirement already satisfied: pickleshare in /usr/local/lib/python3.7/dist-packages (from ipython->ipython-autotime) (0.7.5)\n",
            "Requirement already satisfied: pygments in /usr/local/lib/python3.7/dist-packages (from ipython->ipython-autotime) (2.6.1)\n",
            "Requirement already satisfied: pexpect in /usr/local/lib/python3.7/dist-packages (from ipython->ipython-autotime) (4.8.0)\n",
            "Requirement already satisfied: setuptools>=18.5 in /usr/local/lib/python3.7/dist-packages (from ipython->ipython-autotime) (57.4.0)\n",
            "Requirement already satisfied: traitlets>=4.2 in /usr/local/lib/python3.7/dist-packages (from ipython->ipython-autotime) (5.1.0)\n",
            "Requirement already satisfied: decorator in /usr/local/lib/python3.7/dist-packages (from ipython->ipython-autotime) (4.4.2)\n",
            "Requirement already satisfied: prompt-toolkit<2.0.0,>=1.0.4 in /usr/local/lib/python3.7/dist-packages (from ipython->ipython-autotime) (1.0.18)\n",
            "Requirement already satisfied: simplegeneric>0.8 in /usr/local/lib/python3.7/dist-packages (from ipython->ipython-autotime) (0.8.1)\n",
            "Requirement already satisfied: six>=1.9.0 in /usr/local/lib/python3.7/dist-packages (from prompt-toolkit<2.0.0,>=1.0.4->ipython->ipython-autotime) (1.15.0)\n",
            "Requirement already satisfied: wcwidth in /usr/local/lib/python3.7/dist-packages (from prompt-toolkit<2.0.0,>=1.0.4->ipython->ipython-autotime) (0.2.5)\n",
            "Requirement already satisfied: ptyprocess>=0.5 in /usr/local/lib/python3.7/dist-packages (from pexpect->ipython->ipython-autotime) (0.7.0)\n",
            "Installing collected packages: ipython-autotime\n",
            "Successfully installed ipython-autotime-0.3.1\n",
            "time: 218 µs (started: 2021-10-31 13:23:44 +00:00)\n"
          ]
        }
      ]
    },
    {
      "cell_type": "code",
      "metadata": {
        "colab": {
          "base_uri": "https://localhost:8080/"
        },
        "id": "Ma5fqPS1DXB6",
        "outputId": "c1ab0b26-e7df-4c1d-d099-9c7fabbcf583"
      },
      "source": [
        "import zipfile, os\n",
        "\n",
        "local_zip = '/content/drive/MyDrive/Data/dataset.zip'\n",
        "zip_ref = zipfile.ZipFile(local_zip, 'r')\n",
        "zip_ref.extractall('/tmp/Hand Sign Detection/Dataset')\n",
        "zip_ref.close()"
      ],
      "execution_count": 3,
      "outputs": [
        {
          "output_type": "stream",
          "name": "stdout",
          "text": [
            "time: 5.36 s (started: 2021-10-31 13:23:44 +00:00)\n"
          ]
        }
      ]
    },
    {
      "cell_type": "code",
      "metadata": {
        "colab": {
          "base_uri": "https://localhost:8080/"
        },
        "id": "iKoANKKZEYTZ",
        "outputId": "de1d8fa7-12c8-4d18-9b94-5dfc0a21f0fa"
      },
      "source": [
        "print(os.listdir('/tmp/Hand Sign Detection/Dataset'))"
      ],
      "execution_count": 4,
      "outputs": [
        {
          "output_type": "stream",
          "name": "stdout",
          "text": [
            "['Sign Language for Numbers']\n",
            "time: 2.02 ms (started: 2021-10-31 13:23:50 +00:00)\n"
          ]
        }
      ]
    },
    {
      "cell_type": "code",
      "metadata": {
        "colab": {
          "base_uri": "https://localhost:8080/"
        },
        "id": "JNLThK_DGdVd",
        "outputId": "20eaa56b-bdad-4a7e-b544-ad74574cc864"
      },
      "source": [
        "type_class = os.listdir('/tmp/Hand Sign Detection/Dataset/Sign Language for Numbers')\n",
        "type_class = sorted(type_class)\n",
        "print(type_class)"
      ],
      "execution_count": 5,
      "outputs": [
        {
          "output_type": "stream",
          "name": "stdout",
          "text": [
            "['0', '1', '2', '3', '4', '5', '6', '7', '8', '9', 'unknown']\n",
            "time: 2.74 ms (started: 2021-10-31 13:23:50 +00:00)\n"
          ]
        }
      ]
    },
    {
      "cell_type": "code",
      "metadata": {
        "colab": {
          "base_uri": "https://localhost:8080/"
        },
        "id": "yzp3RIWsIczN",
        "outputId": "a3f5d415-a194-4075-9447-8c0899e4a2b6"
      },
      "source": [
        "total_data = 0\n",
        "for i in type_class:\n",
        "    directory = os.listdir(f'/tmp/Hand Sign Detection/Dataset/Sign Language for Numbers/{i}')\n",
        "    print(f'Number of {i} Images : {len(directory)}')\n",
        "    total_data += len(directory)\n",
        "\n",
        "print(f'\\nTotal Images :{total_data}')"
      ],
      "execution_count": 6,
      "outputs": [
        {
          "output_type": "stream",
          "name": "stdout",
          "text": [
            "Number of 0 Images : 1500\n",
            "Number of 1 Images : 1500\n",
            "Number of 2 Images : 1500\n",
            "Number of 3 Images : 1500\n",
            "Number of 4 Images : 1500\n",
            "Number of 5 Images : 1500\n",
            "Number of 6 Images : 1500\n",
            "Number of 7 Images : 1500\n",
            "Number of 8 Images : 1500\n",
            "Number of 9 Images : 1500\n",
            "Number of unknown Images : 1500\n",
            "\n",
            "Total Images :16500\n",
            "time: 28.6 ms (started: 2021-10-31 13:23:50 +00:00)\n"
          ]
        }
      ]
    },
    {
      "cell_type": "code",
      "metadata": {
        "colab": {
          "base_uri": "https://localhost:8080/"
        },
        "id": "dhAtC_rAG8Jn",
        "outputId": "b10ee959-4642-4793-a74b-2def9cd341fe"
      },
      "source": [
        "!pip install split_folders\n",
        "import splitfolders\n",
        "splitfolders.ratio('/tmp/Hand Sign Detection/Dataset/Sign Language for Numbers', \n",
        "                   '/tmp/Hand Sign Detection/Dataset/Data', \n",
        "                   seed=42, \n",
        "                   ratio=(0.8, 0.2))"
      ],
      "execution_count": 7,
      "outputs": [
        {
          "output_type": "stream",
          "name": "stdout",
          "text": [
            "Collecting split_folders\n",
            "  Downloading split_folders-0.4.3-py3-none-any.whl (7.4 kB)\n",
            "Installing collected packages: split-folders\n",
            "Successfully installed split-folders-0.4.3\n"
          ]
        },
        {
          "output_type": "stream",
          "name": "stderr",
          "text": [
            "Copying files: 16500 files [00:02, 5626.50 files/s]"
          ]
        },
        {
          "output_type": "stream",
          "name": "stdout",
          "text": [
            "time: 6.3 s (started: 2021-10-31 13:23:50 +00:00)\n"
          ]
        },
        {
          "output_type": "stream",
          "name": "stderr",
          "text": [
            "\n"
          ]
        }
      ]
    },
    {
      "cell_type": "code",
      "metadata": {
        "colab": {
          "base_uri": "https://localhost:8080/"
        },
        "id": "_y_L7PecK0eO",
        "outputId": "3b30b32f-a69a-4db2-b72f-876ce58aa6d8"
      },
      "source": [
        "base_dir = '/tmp/Hand Sign Detection/Dataset/Data'\n",
        "train_dir = os.path.join(base_dir, 'train') ## Train Dataset\n",
        "validation_dir = os.path.join(base_dir, 'val') ## Validation Dataset"
      ],
      "execution_count": 8,
      "outputs": [
        {
          "output_type": "stream",
          "name": "stdout",
          "text": [
            "time: 2.59 ms (started: 2021-10-31 13:23:56 +00:00)\n"
          ]
        }
      ]
    },
    {
      "cell_type": "code",
      "metadata": {
        "colab": {
          "base_uri": "https://localhost:8080/"
        },
        "id": "gbw--_tNK43d",
        "outputId": "0598fc13-3943-4c3c-8abc-85020cb5162b"
      },
      "source": [
        "os.listdir('/tmp/Hand Sign Detection/Dataset/Data/train')"
      ],
      "execution_count": 9,
      "outputs": [
        {
          "output_type": "execute_result",
          "data": {
            "text/plain": [
              "['4', '7', '0', '2', '3', 'unknown', '5', '9', '6', '8', '1']"
            ]
          },
          "metadata": {},
          "execution_count": 9
        },
        {
          "output_type": "stream",
          "name": "stdout",
          "text": [
            "time: 21 ms (started: 2021-10-31 13:23:56 +00:00)\n"
          ]
        }
      ]
    },
    {
      "cell_type": "code",
      "metadata": {
        "colab": {
          "base_uri": "https://localhost:8080/"
        },
        "id": "TXDOjlKVK774",
        "outputId": "9db64c06-16b0-4d39-8531-18d61270aa44"
      },
      "source": [
        "os.listdir('/tmp/Hand Sign Detection/Dataset/Data/val')"
      ],
      "execution_count": 10,
      "outputs": [
        {
          "output_type": "execute_result",
          "data": {
            "text/plain": [
              "['4', '7', '0', '2', '3', 'unknown', '5', '9', '6', '8', '1']"
            ]
          },
          "metadata": {},
          "execution_count": 10
        },
        {
          "output_type": "stream",
          "name": "stdout",
          "text": [
            "time: 5.87 ms (started: 2021-10-31 13:23:56 +00:00)\n"
          ]
        }
      ]
    },
    {
      "cell_type": "code",
      "metadata": {
        "colab": {
          "base_uri": "https://localhost:8080/"
        },
        "id": "UY2jmgoDK9rO",
        "outputId": "3ca0a40a-986d-4660-fd47-ce350adff847"
      },
      "source": [
        "total_train_data = 0\n",
        "for i in type_class:\n",
        "    directory = os.listdir(f'/tmp/Hand Sign Detection/Dataset/Data/train/{i}')\n",
        "    print(f'Number of {i} Images : {len(directory)}')\n",
        "    total_train_data += len(directory)\n",
        "\n",
        "print(f'\\nTotal Images :{total_train_data}')"
      ],
      "execution_count": 11,
      "outputs": [
        {
          "output_type": "stream",
          "name": "stdout",
          "text": [
            "Number of 0 Images : 1200\n",
            "Number of 1 Images : 1200\n",
            "Number of 2 Images : 1200\n",
            "Number of 3 Images : 1200\n",
            "Number of 4 Images : 1200\n",
            "Number of 5 Images : 1200\n",
            "Number of 6 Images : 1200\n",
            "Number of 7 Images : 1200\n",
            "Number of 8 Images : 1200\n",
            "Number of 9 Images : 1200\n",
            "Number of unknown Images : 1200\n",
            "\n",
            "Total Images :13200\n",
            "time: 26 ms (started: 2021-10-31 13:23:56 +00:00)\n"
          ]
        }
      ]
    },
    {
      "cell_type": "code",
      "metadata": {
        "colab": {
          "base_uri": "https://localhost:8080/"
        },
        "id": "aeG5Eo9rLaVH",
        "outputId": "5cff1464-4ca3-4b7d-94e5-3d86973e9199"
      },
      "source": [
        "total_test_data = 0\n",
        "for i in type_class:\n",
        "    directory = os.listdir(f'/tmp/Hand Sign Detection/Dataset/Data/val/{i}')\n",
        "    print(f'Number of {i} Images : {len(directory)}')\n",
        "    total_test_data += len(directory)\n",
        "\n",
        "print(f'\\nTotal Images :{total_test_data}')"
      ],
      "execution_count": 12,
      "outputs": [
        {
          "output_type": "stream",
          "name": "stdout",
          "text": [
            "Number of 0 Images : 300\n",
            "Number of 1 Images : 300\n",
            "Number of 2 Images : 300\n",
            "Number of 3 Images : 300\n",
            "Number of 4 Images : 300\n",
            "Number of 5 Images : 300\n",
            "Number of 6 Images : 300\n",
            "Number of 7 Images : 300\n",
            "Number of 8 Images : 300\n",
            "Number of 9 Images : 300\n",
            "Number of unknown Images : 300\n",
            "\n",
            "Total Images :3300\n",
            "time: 7.92 ms (started: 2021-10-31 13:23:56 +00:00)\n"
          ]
        }
      ]
    },
    {
      "cell_type": "code",
      "metadata": {
        "id": "rA-3vOtKLgJg",
        "colab": {
          "base_uri": "https://localhost:8080/"
        },
        "outputId": "33ca87d5-d778-467d-a7a9-d09b29d599bd"
      },
      "source": [
        "from tensorflow.keras.preprocessing.image import ImageDataGenerator\n",
        "\n",
        "train_datagen = ImageDataGenerator(\n",
        "    rescale = 1./255,\n",
        "    rotation_range = 20,\n",
        "    width_shift_range = 0.1,\n",
        "    height_shift_range = 0.2,\n",
        "    horizontal_flip = True,\n",
        "    shear_range = 0.2,\n",
        "    zoom_range = 0.2,\n",
        "    fill_mode = 'nearest'\n",
        ")\n",
        "\n",
        "validation_datagen = ImageDataGenerator(\n",
        "    rescale = 1./255,\n",
        ")\n",
        "\n",
        "train_generator = train_datagen.flow_from_directory(\n",
        "    train_dir,\n",
        "    target_size = (64, 64),\n",
        "    color_mode = 'grayscale',\n",
        "    class_mode = 'categorical'\n",
        ")\n",
        "\n",
        "validation_generator = validation_datagen.flow_from_directory(\n",
        "    validation_dir,\n",
        "    target_size = (64, 64),\n",
        "    color_mode = 'grayscale',\n",
        "    class_mode = 'categorical'\n",
        ")"
      ],
      "execution_count": 13,
      "outputs": [
        {
          "output_type": "stream",
          "name": "stdout",
          "text": [
            "Found 13200 images belonging to 11 classes.\n",
            "Found 3300 images belonging to 11 classes.\n",
            "time: 899 ms (started: 2021-10-31 13:23:56 +00:00)\n"
          ]
        }
      ]
    },
    {
      "cell_type": "code",
      "metadata": {
        "colab": {
          "base_uri": "https://localhost:8080/"
        },
        "id": "TEgRJZcYfQr7",
        "outputId": "05c40309-78a1-4abb-d358-e66bbb91a9ec"
      },
      "source": [
        "model = tf.keras.models.Sequential([\n",
        "# first CONV => RELU => CONV => RELU => POOL layer set                                   \n",
        "  tf.keras.layers.Conv2D(16, (3, 3), activation='relu', padding=\"same\", input_shape=(64, 64, 1)),\n",
        "  tf.keras.layers.Conv2D(16, (3, 3), activation='relu', padding=\"same\"),\n",
        "  tf.keras.layers.MaxPool2D(2,2),\n",
        "  tf.keras.layers.Dropout(0.25),\n",
        "\n",
        "# second CONV => RELU => CONV => RELU => POOL layer set\n",
        "  tf.keras.layers.Conv2D(32, (3, 3), activation='relu', padding=\"same\"),\n",
        "  tf.keras.layers.Conv2D(32, (3, 3), activation='relu', padding=\"same\"),\n",
        "  tf.keras.layers.MaxPool2D(2,2),\n",
        "  tf.keras.layers.Dropout(0.25),\n",
        "\n",
        "# first (and only) set of FC => RELU layers\n",
        "  tf.keras.layers.Flatten(),\n",
        "  tf.keras.layers.Dense(64, activation='relu'),\n",
        "  tf.keras.layers.Dropout(0.5), \n",
        "\n",
        "# softmax classifier\n",
        "  tf.keras.layers.Dense(11, activation='softmax')\n",
        "])"
      ],
      "execution_count": 14,
      "outputs": [
        {
          "output_type": "stream",
          "name": "stdout",
          "text": [
            "time: 5.66 s (started: 2021-10-31 13:23:57 +00:00)\n"
          ]
        }
      ]
    },
    {
      "cell_type": "code",
      "metadata": {
        "colab": {
          "base_uri": "https://localhost:8080/"
        },
        "id": "042i04HSgw1b",
        "outputId": "65563365-32ad-4a5d-accb-59a4850fda1c"
      },
      "source": [
        "model.summary()"
      ],
      "execution_count": 15,
      "outputs": [
        {
          "output_type": "stream",
          "name": "stdout",
          "text": [
            "Model: \"sequential\"\n",
            "_________________________________________________________________\n",
            "Layer (type)                 Output Shape              Param #   \n",
            "=================================================================\n",
            "conv2d (Conv2D)              (None, 64, 64, 16)        160       \n",
            "_________________________________________________________________\n",
            "conv2d_1 (Conv2D)            (None, 64, 64, 16)        2320      \n",
            "_________________________________________________________________\n",
            "max_pooling2d (MaxPooling2D) (None, 32, 32, 16)        0         \n",
            "_________________________________________________________________\n",
            "dropout (Dropout)            (None, 32, 32, 16)        0         \n",
            "_________________________________________________________________\n",
            "conv2d_2 (Conv2D)            (None, 32, 32, 32)        4640      \n",
            "_________________________________________________________________\n",
            "conv2d_3 (Conv2D)            (None, 32, 32, 32)        9248      \n",
            "_________________________________________________________________\n",
            "max_pooling2d_1 (MaxPooling2 (None, 16, 16, 32)        0         \n",
            "_________________________________________________________________\n",
            "dropout_1 (Dropout)          (None, 16, 16, 32)        0         \n",
            "_________________________________________________________________\n",
            "flatten (Flatten)            (None, 8192)              0         \n",
            "_________________________________________________________________\n",
            "dense (Dense)                (None, 64)                524352    \n",
            "_________________________________________________________________\n",
            "dropout_2 (Dropout)          (None, 64)                0         \n",
            "_________________________________________________________________\n",
            "dense_1 (Dense)              (None, 11)                715       \n",
            "=================================================================\n",
            "Total params: 541,435\n",
            "Trainable params: 541,435\n",
            "Non-trainable params: 0\n",
            "_________________________________________________________________\n",
            "time: 16 ms (started: 2021-10-31 13:24:03 +00:00)\n"
          ]
        }
      ]
    },
    {
      "cell_type": "code",
      "metadata": {
        "colab": {
          "base_uri": "https://localhost:8080/"
        },
        "id": "h29Z_Pxbfjnz",
        "outputId": "c337a644-571a-4718-ba67-b4ccc175412d"
      },
      "source": [
        "model.compile(\n",
        "    loss = 'categorical_crossentropy',\n",
        "    optimizer = 'Adam',\n",
        "    metrics = ['accuracy']\n",
        ")"
      ],
      "execution_count": 16,
      "outputs": [
        {
          "output_type": "stream",
          "name": "stdout",
          "text": [
            "time: 13.9 ms (started: 2021-10-31 13:24:03 +00:00)\n"
          ]
        }
      ]
    },
    {
      "cell_type": "code",
      "metadata": {
        "colab": {
          "base_uri": "https://localhost:8080/"
        },
        "id": "dgjUQY3XfmAk",
        "outputId": "6adeaf5f-42b1-428d-acdb-bc84e70612ee"
      },
      "source": [
        "history = model.fit(\n",
        "    train_generator,\n",
        "    epochs = 50,\n",
        "    validation_data = validation_generator,\n",
        "    batch_size = 12,\n",
        "    verbose = 1\n",
        ")"
      ],
      "execution_count": 17,
      "outputs": [
        {
          "output_type": "stream",
          "name": "stdout",
          "text": [
            "Epoch 1/50\n",
            "413/413 [==============================] - 50s 48ms/step - loss: 2.3617 - accuracy: 0.1311 - val_loss: 2.2121 - val_accuracy: 0.2303\n",
            "Epoch 2/50\n",
            "413/413 [==============================] - 19s 46ms/step - loss: 2.2150 - accuracy: 0.2036 - val_loss: 1.8554 - val_accuracy: 0.3879\n",
            "Epoch 3/50\n",
            "413/413 [==============================] - 19s 47ms/step - loss: 2.0547 - accuracy: 0.2702 - val_loss: 1.5866 - val_accuracy: 0.4755\n",
            "Epoch 4/50\n",
            "413/413 [==============================] - 19s 47ms/step - loss: 1.9116 - accuracy: 0.3188 - val_loss: 1.4020 - val_accuracy: 0.5097\n",
            "Epoch 5/50\n",
            "413/413 [==============================] - 19s 47ms/step - loss: 1.7792 - accuracy: 0.3705 - val_loss: 1.2892 - val_accuracy: 0.5576\n",
            "Epoch 6/50\n",
            "413/413 [==============================] - 19s 47ms/step - loss: 1.6836 - accuracy: 0.4030 - val_loss: 1.2675 - val_accuracy: 0.5239\n",
            "Epoch 7/50\n",
            "413/413 [==============================] - 19s 47ms/step - loss: 1.6062 - accuracy: 0.4315 - val_loss: 1.0918 - val_accuracy: 0.5976\n",
            "Epoch 8/50\n",
            "413/413 [==============================] - 19s 47ms/step - loss: 1.5356 - accuracy: 0.4589 - val_loss: 0.9798 - val_accuracy: 0.6827\n",
            "Epoch 9/50\n",
            "413/413 [==============================] - 19s 46ms/step - loss: 1.4746 - accuracy: 0.4833 - val_loss: 0.9636 - val_accuracy: 0.6791\n",
            "Epoch 10/50\n",
            "413/413 [==============================] - 19s 47ms/step - loss: 1.4310 - accuracy: 0.4948 - val_loss: 0.8840 - val_accuracy: 0.7018\n",
            "Epoch 11/50\n",
            "413/413 [==============================] - 19s 46ms/step - loss: 1.3835 - accuracy: 0.5164 - val_loss: 0.8527 - val_accuracy: 0.7494\n",
            "Epoch 12/50\n",
            "413/413 [==============================] - 19s 46ms/step - loss: 1.3366 - accuracy: 0.5302 - val_loss: 0.8117 - val_accuracy: 0.7312\n",
            "Epoch 13/50\n",
            "413/413 [==============================] - 19s 47ms/step - loss: 1.3315 - accuracy: 0.5345 - val_loss: 0.8287 - val_accuracy: 0.7185\n",
            "Epoch 14/50\n",
            "413/413 [==============================] - 19s 47ms/step - loss: 1.2827 - accuracy: 0.5535 - val_loss: 0.8068 - val_accuracy: 0.7224\n",
            "Epoch 15/50\n",
            "413/413 [==============================] - 19s 47ms/step - loss: 1.2615 - accuracy: 0.5584 - val_loss: 0.7584 - val_accuracy: 0.7706\n",
            "Epoch 16/50\n",
            "413/413 [==============================] - 19s 47ms/step - loss: 1.2339 - accuracy: 0.5702 - val_loss: 0.7222 - val_accuracy: 0.7700\n",
            "Epoch 17/50\n",
            "413/413 [==============================] - 19s 47ms/step - loss: 1.2194 - accuracy: 0.5782 - val_loss: 0.6589 - val_accuracy: 0.7767\n",
            "Epoch 18/50\n",
            "413/413 [==============================] - 19s 46ms/step - loss: 1.2001 - accuracy: 0.5837 - val_loss: 0.8234 - val_accuracy: 0.7152\n",
            "Epoch 19/50\n",
            "413/413 [==============================] - 19s 47ms/step - loss: 1.1708 - accuracy: 0.5920 - val_loss: 0.7158 - val_accuracy: 0.7667\n",
            "Epoch 20/50\n",
            "413/413 [==============================] - 19s 46ms/step - loss: 1.1691 - accuracy: 0.5998 - val_loss: 0.6844 - val_accuracy: 0.7764\n",
            "Epoch 21/50\n",
            "413/413 [==============================] - 19s 47ms/step - loss: 1.1461 - accuracy: 0.6052 - val_loss: 0.7133 - val_accuracy: 0.7776\n",
            "Epoch 22/50\n",
            "413/413 [==============================] - 19s 46ms/step - loss: 1.1252 - accuracy: 0.6115 - val_loss: 0.6444 - val_accuracy: 0.8012\n",
            "Epoch 23/50\n",
            "413/413 [==============================] - 19s 46ms/step - loss: 1.1153 - accuracy: 0.6140 - val_loss: 0.6314 - val_accuracy: 0.7921\n",
            "Epoch 24/50\n",
            "413/413 [==============================] - 19s 46ms/step - loss: 1.0983 - accuracy: 0.6242 - val_loss: 0.6067 - val_accuracy: 0.8106\n",
            "Epoch 25/50\n",
            "413/413 [==============================] - 19s 47ms/step - loss: 1.0785 - accuracy: 0.6298 - val_loss: 0.5432 - val_accuracy: 0.8376\n",
            "Epoch 26/50\n",
            "413/413 [==============================] - 19s 46ms/step - loss: 1.0842 - accuracy: 0.6257 - val_loss: 0.6457 - val_accuracy: 0.7845\n",
            "Epoch 27/50\n",
            "413/413 [==============================] - 19s 46ms/step - loss: 1.0732 - accuracy: 0.6314 - val_loss: 0.5318 - val_accuracy: 0.8370\n",
            "Epoch 28/50\n",
            "413/413 [==============================] - 19s 46ms/step - loss: 1.0496 - accuracy: 0.6414 - val_loss: 0.5788 - val_accuracy: 0.8170\n",
            "Epoch 29/50\n",
            "413/413 [==============================] - 19s 47ms/step - loss: 1.0420 - accuracy: 0.6434 - val_loss: 0.6086 - val_accuracy: 0.8164\n",
            "Epoch 30/50\n",
            "413/413 [==============================] - 19s 47ms/step - loss: 1.0436 - accuracy: 0.6424 - val_loss: 0.6032 - val_accuracy: 0.8145\n",
            "Epoch 31/50\n",
            "413/413 [==============================] - 19s 47ms/step - loss: 1.0212 - accuracy: 0.6454 - val_loss: 0.5786 - val_accuracy: 0.8158\n",
            "Epoch 32/50\n",
            "413/413 [==============================] - 19s 46ms/step - loss: 1.0211 - accuracy: 0.6475 - val_loss: 0.5787 - val_accuracy: 0.8221\n",
            "Epoch 33/50\n",
            "413/413 [==============================] - 19s 47ms/step - loss: 1.0134 - accuracy: 0.6502 - val_loss: 0.6043 - val_accuracy: 0.8106\n",
            "Epoch 34/50\n",
            "413/413 [==============================] - 19s 47ms/step - loss: 1.0055 - accuracy: 0.6603 - val_loss: 0.5100 - val_accuracy: 0.8388\n",
            "Epoch 35/50\n",
            "413/413 [==============================] - 19s 47ms/step - loss: 1.0041 - accuracy: 0.6536 - val_loss: 0.5352 - val_accuracy: 0.8315\n",
            "Epoch 36/50\n",
            "413/413 [==============================] - 19s 47ms/step - loss: 0.9862 - accuracy: 0.6634 - val_loss: 0.5918 - val_accuracy: 0.8139\n",
            "Epoch 37/50\n",
            "413/413 [==============================] - 20s 47ms/step - loss: 0.9671 - accuracy: 0.6673 - val_loss: 0.4802 - val_accuracy: 0.8603\n",
            "Epoch 38/50\n",
            "413/413 [==============================] - 20s 48ms/step - loss: 0.9805 - accuracy: 0.6667 - val_loss: 0.4882 - val_accuracy: 0.8506\n",
            "Epoch 39/50\n",
            "413/413 [==============================] - 20s 48ms/step - loss: 0.9766 - accuracy: 0.6630 - val_loss: 0.4588 - val_accuracy: 0.8642\n",
            "Epoch 40/50\n",
            "413/413 [==============================] - 19s 47ms/step - loss: 0.9625 - accuracy: 0.6692 - val_loss: 0.4975 - val_accuracy: 0.8464\n",
            "Epoch 41/50\n",
            "413/413 [==============================] - 20s 48ms/step - loss: 0.9684 - accuracy: 0.6673 - val_loss: 0.5317 - val_accuracy: 0.8400\n",
            "Epoch 42/50\n",
            "413/413 [==============================] - 19s 47ms/step - loss: 0.9575 - accuracy: 0.6723 - val_loss: 0.4693 - val_accuracy: 0.8536\n",
            "Epoch 43/50\n",
            "413/413 [==============================] - 19s 47ms/step - loss: 0.9397 - accuracy: 0.6770 - val_loss: 0.5176 - val_accuracy: 0.8479\n",
            "Epoch 44/50\n",
            "413/413 [==============================] - 19s 47ms/step - loss: 0.9595 - accuracy: 0.6747 - val_loss: 0.4985 - val_accuracy: 0.8430\n",
            "Epoch 45/50\n",
            "413/413 [==============================] - 19s 47ms/step - loss: 0.9202 - accuracy: 0.6882 - val_loss: 0.5025 - val_accuracy: 0.8467\n",
            "Epoch 46/50\n",
            "413/413 [==============================] - 19s 47ms/step - loss: 0.9124 - accuracy: 0.6883 - val_loss: 0.5000 - val_accuracy: 0.8536\n",
            "Epoch 47/50\n",
            "413/413 [==============================] - 20s 47ms/step - loss: 0.9198 - accuracy: 0.6870 - val_loss: 0.5080 - val_accuracy: 0.8400\n",
            "Epoch 48/50\n",
            "413/413 [==============================] - 19s 47ms/step - loss: 0.9216 - accuracy: 0.6862 - val_loss: 0.4455 - val_accuracy: 0.8639\n",
            "Epoch 49/50\n",
            "413/413 [==============================] - 19s 47ms/step - loss: 0.9189 - accuracy: 0.6858 - val_loss: 0.4586 - val_accuracy: 0.8691\n",
            "Epoch 50/50\n",
            "413/413 [==============================] - 19s 47ms/step - loss: 0.8959 - accuracy: 0.6870 - val_loss: 0.4846 - val_accuracy: 0.8500\n",
            "time: 16min 39s (started: 2021-10-31 13:24:03 +00:00)\n"
          ]
        }
      ]
    },
    {
      "cell_type": "code",
      "metadata": {
        "colab": {
          "base_uri": "https://localhost:8080/"
        },
        "id": "K9eg0XkMf4sZ",
        "outputId": "5bb4ccb0-e1a8-48d1-91da-0807f38f39b9"
      },
      "source": [
        "import json\n",
        "model_json = model.to_json()\n",
        "with open(\"model_in_json.json\", \"w\") as json_file:\n",
        "    json.dump(model_json, json_file)"
      ],
      "execution_count": 19,
      "outputs": [
        {
          "output_type": "stream",
          "name": "stdout",
          "text": [
            "time: 16.2 ms (started: 2021-10-31 13:41:03 +00:00)\n"
          ]
        }
      ]
    },
    {
      "cell_type": "code",
      "metadata": {
        "colab": {
          "base_uri": "https://localhost:8080/"
        },
        "id": "JeYhS2vhf_Hb",
        "outputId": "0a650b4d-fcb9-4699-ae09-c8fa3e6dc270"
      },
      "source": [
        "model.save_weights('model_weights.h5')"
      ],
      "execution_count": 20,
      "outputs": [
        {
          "output_type": "stream",
          "name": "stdout",
          "text": [
            "time: 39.3 ms (started: 2021-10-31 13:41:06 +00:00)\n"
          ]
        }
      ]
    }
  ]
}