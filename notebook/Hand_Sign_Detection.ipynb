{
  "nbformat": 4,
  "nbformat_minor": 0,
  "metadata": {
    "colab": {
      "name": "Hand Sign Detection.ipynb",
      "provenance": []
    },
    "kernelspec": {
      "name": "python3",
      "display_name": "Python 3"
    },
    "language_info": {
      "name": "python"
    },
    "accelerator": "GPU"
  },
  "cells": [
    {
      "cell_type": "markdown",
      "metadata": {
        "id": "yXu_ihmtDLrr"
      },
      "source": [
        "## Hand Sign Detection\n",
        "By : Reynara Ezra Pratama"
      ]
    },
    {
      "cell_type": "markdown",
      "metadata": {
        "id": "tV3cUHUODQ-L"
      },
      "source": [
        "### Import Library"
      ]
    },
    {
      "cell_type": "code",
      "metadata": {
        "colab": {
          "base_uri": "https://localhost:8080/"
        },
        "id": "Kc1DxDGWDDsd",
        "outputId": "7cc752be-31f0-4c8a-d600-34931535bbf0"
      },
      "source": [
        "import tensorflow as tf\n",
        "print(tf.__version__)"
      ],
      "execution_count": 3,
      "outputs": [
        {
          "output_type": "stream",
          "name": "stdout",
          "text": [
            "2.6.0\n"
          ]
        }
      ]
    },
    {
      "cell_type": "code",
      "metadata": {
        "colab": {
          "base_uri": "https://localhost:8080/"
        },
        "id": "jRVjeZp4DVQE",
        "outputId": "de21e749-f063-4e8d-e7cd-2b40ef950abd"
      },
      "source": [
        "!pip install ipython-autotime\n",
        "%load_ext autotime"
      ],
      "execution_count": 4,
      "outputs": [
        {
          "output_type": "stream",
          "name": "stdout",
          "text": [
            "Collecting ipython-autotime\n",
            "  Downloading ipython_autotime-0.3.1-py2.py3-none-any.whl (6.8 kB)\n",
            "Requirement already satisfied: ipython in /usr/local/lib/python3.7/dist-packages (from ipython-autotime) (5.5.0)\n",
            "Requirement already satisfied: decorator in /usr/local/lib/python3.7/dist-packages (from ipython->ipython-autotime) (4.4.2)\n",
            "Requirement already satisfied: pexpect in /usr/local/lib/python3.7/dist-packages (from ipython->ipython-autotime) (4.8.0)\n",
            "Requirement already satisfied: simplegeneric>0.8 in /usr/local/lib/python3.7/dist-packages (from ipython->ipython-autotime) (0.8.1)\n",
            "Requirement already satisfied: pickleshare in /usr/local/lib/python3.7/dist-packages (from ipython->ipython-autotime) (0.7.5)\n",
            "Requirement already satisfied: setuptools>=18.5 in /usr/local/lib/python3.7/dist-packages (from ipython->ipython-autotime) (57.4.0)\n",
            "Requirement already satisfied: traitlets>=4.2 in /usr/local/lib/python3.7/dist-packages (from ipython->ipython-autotime) (5.1.0)\n",
            "Requirement already satisfied: pygments in /usr/local/lib/python3.7/dist-packages (from ipython->ipython-autotime) (2.6.1)\n",
            "Requirement already satisfied: prompt-toolkit<2.0.0,>=1.0.4 in /usr/local/lib/python3.7/dist-packages (from ipython->ipython-autotime) (1.0.18)\n",
            "Requirement already satisfied: wcwidth in /usr/local/lib/python3.7/dist-packages (from prompt-toolkit<2.0.0,>=1.0.4->ipython->ipython-autotime) (0.2.5)\n",
            "Requirement already satisfied: six>=1.9.0 in /usr/local/lib/python3.7/dist-packages (from prompt-toolkit<2.0.0,>=1.0.4->ipython->ipython-autotime) (1.15.0)\n",
            "Requirement already satisfied: ptyprocess>=0.5 in /usr/local/lib/python3.7/dist-packages (from pexpect->ipython->ipython-autotime) (0.7.0)\n",
            "Installing collected packages: ipython-autotime\n",
            "Successfully installed ipython-autotime-0.3.1\n",
            "time: 133 µs (started: 2021-10-31 11:25:51 +00:00)\n"
          ]
        }
      ]
    },
    {
      "cell_type": "code",
      "metadata": {
        "colab": {
          "base_uri": "https://localhost:8080/"
        },
        "id": "Ma5fqPS1DXB6",
        "outputId": "f6b5a5d9-b220-48c7-d060-bbd61dce61d1"
      },
      "source": [
        "import zipfile, os\n",
        "\n",
        "local_zip = '/content/drive/MyDrive/Data/dataset.zip'\n",
        "zip_ref = zipfile.ZipFile(local_zip, 'r')\n",
        "zip_ref.extractall('/tmp/Hand Sign Detection/Dataset')\n",
        "zip_ref.close()"
      ],
      "execution_count": 6,
      "outputs": [
        {
          "output_type": "stream",
          "name": "stdout",
          "text": [
            "time: 6.17 s (started: 2021-10-31 11:26:03 +00:00)\n"
          ]
        }
      ]
    },
    {
      "cell_type": "code",
      "metadata": {
        "colab": {
          "base_uri": "https://localhost:8080/"
        },
        "id": "iKoANKKZEYTZ",
        "outputId": "7e32ffa1-e1cf-4675-c50c-25823b8da521"
      },
      "source": [
        "print(os.listdir('/tmp/Hand Sign Detection/Dataset'))"
      ],
      "execution_count": 7,
      "outputs": [
        {
          "output_type": "stream",
          "name": "stdout",
          "text": [
            "['Sign Language for Numbers']\n",
            "time: 4.57 ms (started: 2021-10-31 11:26:13 +00:00)\n"
          ]
        }
      ]
    },
    {
      "cell_type": "code",
      "metadata": {
        "id": "JNLThK_DGdVd",
        "outputId": "1728fc02-50f1-4ff3-e905-d824f01c3984",
        "colab": {
          "base_uri": "https://localhost:8080/"
        }
      },
      "source": [
        "type_class = os.listdir('/tmp/Hand Sign Detection/Dataset/Sign Language for Numbers')\n",
        "type_class = sorted(type_class)\n",
        "print(type_class)"
      ],
      "execution_count": 27,
      "outputs": [
        {
          "output_type": "stream",
          "name": "stdout",
          "text": [
            "['0', '1', '2', '3', '4', '5', '6', '7', '8', '9', 'unknown']\n",
            "time: 3.67 ms (started: 2021-10-31 11:37:18 +00:00)\n"
          ]
        }
      ]
    },
    {
      "cell_type": "code",
      "metadata": {
        "id": "yzp3RIWsIczN",
        "outputId": "131142d2-ec78-4970-a219-1a2720b9e8e8",
        "colab": {
          "base_uri": "https://localhost:8080/"
        }
      },
      "source": [
        "total_data = 0\n",
        "for i in type_class:\n",
        "    directory = os.listdir(f'/tmp/Hand Sign Detection/Dataset/Sign Language for Numbers/{i}')\n",
        "    print(f'Number of {i} Images : {len(directory)}')\n",
        "    total_data += len(directory)\n",
        "\n",
        "print(f'\\nTotal Images :{total_data}')"
      ],
      "execution_count": 36,
      "outputs": [
        {
          "output_type": "stream",
          "name": "stdout",
          "text": [
            "Number of 0 Images : 1500\n",
            "Number of 1 Images : 1500\n",
            "Number of 2 Images : 1500\n",
            "Number of 3 Images : 1500\n",
            "Number of 4 Images : 1500\n",
            "Number of 5 Images : 1500\n",
            "Number of 6 Images : 1500\n",
            "Number of 7 Images : 1500\n",
            "Number of 8 Images : 1500\n",
            "Number of 9 Images : 1500\n",
            "Number of unknown Images : 1500\n",
            "\n",
            "Total Images :16500\n",
            "time: 28.7 ms (started: 2021-10-31 11:42:07 +00:00)\n"
          ]
        }
      ]
    },
    {
      "cell_type": "code",
      "metadata": {
        "id": "dhAtC_rAG8Jn"
      },
      "source": [
        ""
      ],
      "execution_count": null,
      "outputs": []
    }
  ]
}